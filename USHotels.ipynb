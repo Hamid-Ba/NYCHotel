{
  "nbformat": 4,
  "nbformat_minor": 0,
  "metadata": {
    "colab": {
      "provenance": [],
      "authorship_tag": "ABX9TyNPZdPpoQXkLuE9Kfk+Hwzx",
      "include_colab_link": true
    },
    "kernelspec": {
      "name": "python3",
      "display_name": "Python 3"
    },
    "language_info": {
      "name": "python"
    }
  },
  "cells": [
    {
      "cell_type": "markdown",
      "metadata": {
        "id": "view-in-github",
        "colab_type": "text"
      },
      "source": [
        "<a href=\"https://colab.research.google.com/github/Hamid-Ba/NYCHotel/blob/main/USHotels.ipynb\" target=\"_parent\"><img src=\"https://colab.research.google.com/assets/colab-badge.svg\" alt=\"Open In Colab\"/></a>"
      ]
    },
    {
      "cell_type": "markdown",
      "source": [
        "# Hamid Balalzadeh (98405017)"
      ],
      "metadata": {
        "id": "Ou21LgKtA3SD"
      }
    },
    {
      "cell_type": "markdown",
      "source": [
        "Import Tools"
      ],
      "metadata": {
        "id": "cqWhFhOhvUOJ"
      }
    },
    {
      "cell_type": "code",
      "source": [
        "import pandas as pd\n",
        "import numpy as np\n",
        "import matplotlib.pyplot as plt\n",
        "import seaborn as sns\n",
        "from langdetect import detect\n",
        "from sklearn.model_selection import train_test_split\n",
        "from sklearn.feature_extraction.text import TfidfVectorizer\n",
        "from tensorflow import keras\n",
        "from keras.models import Sequential\n",
        "from keras.layers import Dense, Dropout, Activation\n",
        "from keras.optimizers import Adam\n",
        "import string\n",
        "from nltk.corpus import stopwords\n",
        "from nltk.stem import PorterStemmer\n",
        "import tensorflow as tf"
      ],
      "metadata": {
        "id": "QXAeOJl-vPsi"
      },
      "execution_count": 1,
      "outputs": []
    },
    {
      "cell_type": "markdown",
      "source": [
        "I gathered data from https://www.kaggle.com/datasets/gdberrio/new-york-hotels.\n",
        "in this dataset we have NYC Hotels Reviews."
      ],
      "metadata": {
        "id": "jj45m4yMsUb8"
      }
    },
    {
      "cell_type": "markdown",
      "source": [
        "Now We Should Preprocessing Data"
      ],
      "metadata": {
        "id": "0Uq6nEPMvapW"
      }
    },
    {
      "cell_type": "code",
      "source": [
        "hotel_df = pd.read_csv(\"/content/hotels.csv\")"
      ],
      "metadata": {
        "id": "R9LgOloygakv"
      },
      "execution_count": 2,
      "outputs": []
    },
    {
      "cell_type": "code",
      "source": [
        "hotel_df.head()"
      ],
      "metadata": {
        "colab": {
          "base_uri": "https://localhost:8080/",
          "height": 531
        },
        "id": "qhckfVXnhYor",
        "outputId": "8199d441-131e-4fdf-a5b0-6d7e2d4d2711"
      },
      "execution_count": 3,
      "outputs": [
        {
          "output_type": "execute_result",
          "data": {
            "text/plain": [
              "                  address categories      city country   latitude  longitude  \\\n",
              "0  Riviera San Nicol 11/a     Hotels  Mableton      US  45.421611  12.376187   \n",
              "1  Riviera San Nicol 11/a     Hotels  Mableton      US  45.421611  12.376187   \n",
              "2  Riviera San Nicol 11/a     Hotels  Mableton      US  45.421611  12.376187   \n",
              "3  Riviera San Nicol 11/a     Hotels  Mableton      US  45.421611  12.376187   \n",
              "4  Riviera San Nicol 11/a     Hotels  Mableton      US  45.421611  12.376187   \n",
              "\n",
              "                 name postalCode province          reviews.date  \\\n",
              "0  Hotel Russo Palace      30126       GA  2013-09-22T00:00:00Z   \n",
              "1  Hotel Russo Palace      30126       GA  2015-04-03T00:00:00Z   \n",
              "2  Hotel Russo Palace      30126       GA  2014-05-13T00:00:00Z   \n",
              "3  Hotel Russo Palace      30126       GA  2013-10-27T00:00:00Z   \n",
              "4  Hotel Russo Palace      30126       GA  2015-03-05T00:00:00Z   \n",
              "\n",
              "      reviews.dateAdded  reviews.doRecommend  reviews.id  reviews.rating  \\\n",
              "0  2016-10-24T00:00:25Z                  NaN         NaN             4.0   \n",
              "1  2016-10-24T00:00:25Z                  NaN         NaN             5.0   \n",
              "2  2016-10-24T00:00:25Z                  NaN         NaN             5.0   \n",
              "3  2016-10-24T00:00:25Z                  NaN         NaN             5.0   \n",
              "4  2016-10-24T00:00:25Z                  NaN         NaN             5.0   \n",
              "\n",
              "                                        reviews.text  \\\n",
              "0  Pleasant 10 min walk along the sea front to th...   \n",
              "1  Really lovely hotel. Stayed on the very top fl...   \n",
              "2  Ett mycket bra hotell. Det som drog ner betyge...   \n",
              "3  We stayed here for four nights in October. The...   \n",
              "4  We stayed here for four nights in October. The...   \n",
              "\n",
              "                        reviews.title reviews.userCity reviews.username  \\\n",
              "0  Good location away from the crouds              NaN      Russ (kent)   \n",
              "1      Great hotel with Jacuzzi bath!              NaN       A Traveler   \n",
              "2                         Lugnt l��ge              NaN             Maud   \n",
              "3          Good location on the Lido.              NaN            Julie   \n",
              "4              ������ ���������������              NaN         sungchul   \n",
              "\n",
              "  reviews.userProvince  \n",
              "0                  NaN  \n",
              "1                  NaN  \n",
              "2                  NaN  \n",
              "3                  NaN  \n",
              "4                  NaN  "
            ],
            "text/html": [
              "\n",
              "  <div id=\"df-c7b10c40-c983-4aee-9cbe-8f49161e3916\">\n",
              "    <div class=\"colab-df-container\">\n",
              "      <div>\n",
              "<style scoped>\n",
              "    .dataframe tbody tr th:only-of-type {\n",
              "        vertical-align: middle;\n",
              "    }\n",
              "\n",
              "    .dataframe tbody tr th {\n",
              "        vertical-align: top;\n",
              "    }\n",
              "\n",
              "    .dataframe thead th {\n",
              "        text-align: right;\n",
              "    }\n",
              "</style>\n",
              "<table border=\"1\" class=\"dataframe\">\n",
              "  <thead>\n",
              "    <tr style=\"text-align: right;\">\n",
              "      <th></th>\n",
              "      <th>address</th>\n",
              "      <th>categories</th>\n",
              "      <th>city</th>\n",
              "      <th>country</th>\n",
              "      <th>latitude</th>\n",
              "      <th>longitude</th>\n",
              "      <th>name</th>\n",
              "      <th>postalCode</th>\n",
              "      <th>province</th>\n",
              "      <th>reviews.date</th>\n",
              "      <th>reviews.dateAdded</th>\n",
              "      <th>reviews.doRecommend</th>\n",
              "      <th>reviews.id</th>\n",
              "      <th>reviews.rating</th>\n",
              "      <th>reviews.text</th>\n",
              "      <th>reviews.title</th>\n",
              "      <th>reviews.userCity</th>\n",
              "      <th>reviews.username</th>\n",
              "      <th>reviews.userProvince</th>\n",
              "    </tr>\n",
              "  </thead>\n",
              "  <tbody>\n",
              "    <tr>\n",
              "      <th>0</th>\n",
              "      <td>Riviera San Nicol 11/a</td>\n",
              "      <td>Hotels</td>\n",
              "      <td>Mableton</td>\n",
              "      <td>US</td>\n",
              "      <td>45.421611</td>\n",
              "      <td>12.376187</td>\n",
              "      <td>Hotel Russo Palace</td>\n",
              "      <td>30126</td>\n",
              "      <td>GA</td>\n",
              "      <td>2013-09-22T00:00:00Z</td>\n",
              "      <td>2016-10-24T00:00:25Z</td>\n",
              "      <td>NaN</td>\n",
              "      <td>NaN</td>\n",
              "      <td>4.0</td>\n",
              "      <td>Pleasant 10 min walk along the sea front to th...</td>\n",
              "      <td>Good location away from the crouds</td>\n",
              "      <td>NaN</td>\n",
              "      <td>Russ (kent)</td>\n",
              "      <td>NaN</td>\n",
              "    </tr>\n",
              "    <tr>\n",
              "      <th>1</th>\n",
              "      <td>Riviera San Nicol 11/a</td>\n",
              "      <td>Hotels</td>\n",
              "      <td>Mableton</td>\n",
              "      <td>US</td>\n",
              "      <td>45.421611</td>\n",
              "      <td>12.376187</td>\n",
              "      <td>Hotel Russo Palace</td>\n",
              "      <td>30126</td>\n",
              "      <td>GA</td>\n",
              "      <td>2015-04-03T00:00:00Z</td>\n",
              "      <td>2016-10-24T00:00:25Z</td>\n",
              "      <td>NaN</td>\n",
              "      <td>NaN</td>\n",
              "      <td>5.0</td>\n",
              "      <td>Really lovely hotel. Stayed on the very top fl...</td>\n",
              "      <td>Great hotel with Jacuzzi bath!</td>\n",
              "      <td>NaN</td>\n",
              "      <td>A Traveler</td>\n",
              "      <td>NaN</td>\n",
              "    </tr>\n",
              "    <tr>\n",
              "      <th>2</th>\n",
              "      <td>Riviera San Nicol 11/a</td>\n",
              "      <td>Hotels</td>\n",
              "      <td>Mableton</td>\n",
              "      <td>US</td>\n",
              "      <td>45.421611</td>\n",
              "      <td>12.376187</td>\n",
              "      <td>Hotel Russo Palace</td>\n",
              "      <td>30126</td>\n",
              "      <td>GA</td>\n",
              "      <td>2014-05-13T00:00:00Z</td>\n",
              "      <td>2016-10-24T00:00:25Z</td>\n",
              "      <td>NaN</td>\n",
              "      <td>NaN</td>\n",
              "      <td>5.0</td>\n",
              "      <td>Ett mycket bra hotell. Det som drog ner betyge...</td>\n",
              "      <td>Lugnt l��ge</td>\n",
              "      <td>NaN</td>\n",
              "      <td>Maud</td>\n",
              "      <td>NaN</td>\n",
              "    </tr>\n",
              "    <tr>\n",
              "      <th>3</th>\n",
              "      <td>Riviera San Nicol 11/a</td>\n",
              "      <td>Hotels</td>\n",
              "      <td>Mableton</td>\n",
              "      <td>US</td>\n",
              "      <td>45.421611</td>\n",
              "      <td>12.376187</td>\n",
              "      <td>Hotel Russo Palace</td>\n",
              "      <td>30126</td>\n",
              "      <td>GA</td>\n",
              "      <td>2013-10-27T00:00:00Z</td>\n",
              "      <td>2016-10-24T00:00:25Z</td>\n",
              "      <td>NaN</td>\n",
              "      <td>NaN</td>\n",
              "      <td>5.0</td>\n",
              "      <td>We stayed here for four nights in October. The...</td>\n",
              "      <td>Good location on the Lido.</td>\n",
              "      <td>NaN</td>\n",
              "      <td>Julie</td>\n",
              "      <td>NaN</td>\n",
              "    </tr>\n",
              "    <tr>\n",
              "      <th>4</th>\n",
              "      <td>Riviera San Nicol 11/a</td>\n",
              "      <td>Hotels</td>\n",
              "      <td>Mableton</td>\n",
              "      <td>US</td>\n",
              "      <td>45.421611</td>\n",
              "      <td>12.376187</td>\n",
              "      <td>Hotel Russo Palace</td>\n",
              "      <td>30126</td>\n",
              "      <td>GA</td>\n",
              "      <td>2015-03-05T00:00:00Z</td>\n",
              "      <td>2016-10-24T00:00:25Z</td>\n",
              "      <td>NaN</td>\n",
              "      <td>NaN</td>\n",
              "      <td>5.0</td>\n",
              "      <td>We stayed here for four nights in October. The...</td>\n",
              "      <td>������ ���������������</td>\n",
              "      <td>NaN</td>\n",
              "      <td>sungchul</td>\n",
              "      <td>NaN</td>\n",
              "    </tr>\n",
              "  </tbody>\n",
              "</table>\n",
              "</div>\n",
              "      <button class=\"colab-df-convert\" onclick=\"convertToInteractive('df-c7b10c40-c983-4aee-9cbe-8f49161e3916')\"\n",
              "              title=\"Convert this dataframe to an interactive table.\"\n",
              "              style=\"display:none;\">\n",
              "        \n",
              "  <svg xmlns=\"http://www.w3.org/2000/svg\" height=\"24px\"viewBox=\"0 0 24 24\"\n",
              "       width=\"24px\">\n",
              "    <path d=\"M0 0h24v24H0V0z\" fill=\"none\"/>\n",
              "    <path d=\"M18.56 5.44l.94 2.06.94-2.06 2.06-.94-2.06-.94-.94-2.06-.94 2.06-2.06.94zm-11 1L8.5 8.5l.94-2.06 2.06-.94-2.06-.94L8.5 2.5l-.94 2.06-2.06.94zm10 10l.94 2.06.94-2.06 2.06-.94-2.06-.94-.94-2.06-.94 2.06-2.06.94z\"/><path d=\"M17.41 7.96l-1.37-1.37c-.4-.4-.92-.59-1.43-.59-.52 0-1.04.2-1.43.59L10.3 9.45l-7.72 7.72c-.78.78-.78 2.05 0 2.83L4 21.41c.39.39.9.59 1.41.59.51 0 1.02-.2 1.41-.59l7.78-7.78 2.81-2.81c.8-.78.8-2.07 0-2.86zM5.41 20L4 18.59l7.72-7.72 1.47 1.35L5.41 20z\"/>\n",
              "  </svg>\n",
              "      </button>\n",
              "      \n",
              "  <style>\n",
              "    .colab-df-container {\n",
              "      display:flex;\n",
              "      flex-wrap:wrap;\n",
              "      gap: 12px;\n",
              "    }\n",
              "\n",
              "    .colab-df-convert {\n",
              "      background-color: #E8F0FE;\n",
              "      border: none;\n",
              "      border-radius: 50%;\n",
              "      cursor: pointer;\n",
              "      display: none;\n",
              "      fill: #1967D2;\n",
              "      height: 32px;\n",
              "      padding: 0 0 0 0;\n",
              "      width: 32px;\n",
              "    }\n",
              "\n",
              "    .colab-df-convert:hover {\n",
              "      background-color: #E2EBFA;\n",
              "      box-shadow: 0px 1px 2px rgba(60, 64, 67, 0.3), 0px 1px 3px 1px rgba(60, 64, 67, 0.15);\n",
              "      fill: #174EA6;\n",
              "    }\n",
              "\n",
              "    [theme=dark] .colab-df-convert {\n",
              "      background-color: #3B4455;\n",
              "      fill: #D2E3FC;\n",
              "    }\n",
              "\n",
              "    [theme=dark] .colab-df-convert:hover {\n",
              "      background-color: #434B5C;\n",
              "      box-shadow: 0px 1px 3px 1px rgba(0, 0, 0, 0.15);\n",
              "      filter: drop-shadow(0px 1px 2px rgba(0, 0, 0, 0.3));\n",
              "      fill: #FFFFFF;\n",
              "    }\n",
              "  </style>\n",
              "\n",
              "      <script>\n",
              "        const buttonEl =\n",
              "          document.querySelector('#df-c7b10c40-c983-4aee-9cbe-8f49161e3916 button.colab-df-convert');\n",
              "        buttonEl.style.display =\n",
              "          google.colab.kernel.accessAllowed ? 'block' : 'none';\n",
              "\n",
              "        async function convertToInteractive(key) {\n",
              "          const element = document.querySelector('#df-c7b10c40-c983-4aee-9cbe-8f49161e3916');\n",
              "          const dataTable =\n",
              "            await google.colab.kernel.invokeFunction('convertToInteractive',\n",
              "                                                     [key], {});\n",
              "          if (!dataTable) return;\n",
              "\n",
              "          const docLinkHtml = 'Like what you see? Visit the ' +\n",
              "            '<a target=\"_blank\" href=https://colab.research.google.com/notebooks/data_table.ipynb>data table notebook</a>'\n",
              "            + ' to learn more about interactive tables.';\n",
              "          element.innerHTML = '';\n",
              "          dataTable['output_type'] = 'display_data';\n",
              "          await google.colab.output.renderOutput(dataTable, element);\n",
              "          const docLink = document.createElement('div');\n",
              "          docLink.innerHTML = docLinkHtml;\n",
              "          element.appendChild(docLink);\n",
              "        }\n",
              "      </script>\n",
              "    </div>\n",
              "  </div>\n",
              "  "
            ]
          },
          "metadata": {},
          "execution_count": 3
        }
      ]
    },
    {
      "cell_type": "markdown",
      "source": [
        "Count of Hotels Reviews"
      ],
      "metadata": {
        "id": "fttga8VKvka2"
      }
    },
    {
      "cell_type": "code",
      "source": [
        "len(hotel_df)"
      ],
      "metadata": {
        "colab": {
          "base_uri": "https://localhost:8080/"
        },
        "id": "IMWjtMwsoMAK",
        "outputId": "a09bfea6-3319-49aa-f583-5fff67851a0e"
      },
      "execution_count": 4,
      "outputs": [
        {
          "output_type": "execute_result",
          "data": {
            "text/plain": [
              "35912"
            ]
          },
          "metadata": {},
          "execution_count": 4
        }
      ]
    },
    {
      "cell_type": "code",
      "source": [
        "hotel_df.info()"
      ],
      "metadata": {
        "colab": {
          "base_uri": "https://localhost:8080/"
        },
        "id": "dvtGJN37n9of",
        "outputId": "e6095216-27bf-4405-92c9-eaf30e90dfcb"
      },
      "execution_count": 5,
      "outputs": [
        {
          "output_type": "stream",
          "name": "stdout",
          "text": [
            "<class 'pandas.core.frame.DataFrame'>\n",
            "RangeIndex: 35912 entries, 0 to 35911\n",
            "Data columns (total 19 columns):\n",
            " #   Column                Non-Null Count  Dtype  \n",
            "---  ------                --------------  -----  \n",
            " 0   address               35912 non-null  object \n",
            " 1   categories            35912 non-null  object \n",
            " 2   city                  35912 non-null  object \n",
            " 3   country               35912 non-null  object \n",
            " 4   latitude              35826 non-null  float64\n",
            " 5   longitude             35826 non-null  float64\n",
            " 6   name                  35912 non-null  object \n",
            " 7   postalCode            35857 non-null  object \n",
            " 8   province              35912 non-null  object \n",
            " 9   reviews.date          35653 non-null  object \n",
            " 10  reviews.dateAdded     35912 non-null  object \n",
            " 11  reviews.doRecommend   0 non-null      float64\n",
            " 12  reviews.id            0 non-null      float64\n",
            " 13  reviews.rating        35050 non-null  float64\n",
            " 14  reviews.text          35890 non-null  object \n",
            " 15  reviews.title         34290 non-null  object \n",
            " 16  reviews.userCity      16263 non-null  object \n",
            " 17  reviews.username      35869 non-null  object \n",
            " 18  reviews.userProvince  17518 non-null  object \n",
            "dtypes: float64(5), object(14)\n",
            "memory usage: 5.2+ MB\n"
          ]
        }
      ]
    },
    {
      "cell_type": "markdown",
      "source": [
        "Dropping some columns which has **too null values** and are **unnecessary**"
      ],
      "metadata": {
        "id": "ooLO2HIlvnnR"
      }
    },
    {
      "cell_type": "code",
      "source": [
        "hotel_df.drop(columns=['reviews.id', 'reviews.userCity',\"reviews.userProvince\",\"reviews.doRecommend\"], inplace=True)"
      ],
      "metadata": {
        "id": "LWjnpyCxn7Td"
      },
      "execution_count": 6,
      "outputs": []
    },
    {
      "cell_type": "markdown",
      "source": [
        "Identifying duplicate rows"
      ],
      "metadata": {
        "id": "5MRes3LNvtl0"
      }
    },
    {
      "cell_type": "code",
      "source": [
        "duplicate_rows = hotel_df.duplicated()"
      ],
      "metadata": {
        "id": "JvmLHnbChfWz"
      },
      "execution_count": 7,
      "outputs": []
    },
    {
      "cell_type": "markdown",
      "source": [
        "Dropping duplicate rows"
      ],
      "metadata": {
        "id": "200LnlPDvv2X"
      }
    },
    {
      "cell_type": "code",
      "source": [
        "cleaned_hotel_df = hotel_df[~duplicate_rows]"
      ],
      "metadata": {
        "id": "PJnKD06Tlts2"
      },
      "execution_count": 8,
      "outputs": []
    },
    {
      "cell_type": "code",
      "source": [
        "# Identifying and counting missing values\n",
        "missing_values_count = cleaned_hotel_df.isnull().sum()\n",
        "\n",
        "print(missing_values_count)"
      ],
      "metadata": {
        "colab": {
          "base_uri": "https://localhost:8080/"
        },
        "id": "AXY39WhQl1-Y",
        "outputId": "fdafdfb9-7fd4-45b5-8010-e3a61c74622d"
      },
      "execution_count": 9,
      "outputs": [
        {
          "output_type": "stream",
          "name": "stdout",
          "text": [
            "address                 0\n",
            "categories              0\n",
            "city                    0\n",
            "country                 0\n",
            "latitude               86\n",
            "longitude              86\n",
            "name                    0\n",
            "postalCode             55\n",
            "province                0\n",
            "reviews.date          259\n",
            "reviews.dateAdded       0\n",
            "reviews.rating        862\n",
            "reviews.text           22\n",
            "reviews.title        1622\n",
            "reviews.username       43\n",
            "dtype: int64\n"
          ]
        }
      ]
    },
    {
      "cell_type": "markdown",
      "source": [
        "Dropping rows with missing values"
      ],
      "metadata": {
        "id": "Q063epTJv05h"
      }
    },
    {
      "cell_type": "code",
      "source": [
        "cleaned_hotel_df = hotel_df.dropna()"
      ],
      "metadata": {
        "id": "v4q8_8IymGhN"
      },
      "execution_count": 10,
      "outputs": []
    },
    {
      "cell_type": "markdown",
      "source": [
        "Check If We Don't miss anything ..."
      ],
      "metadata": {
        "id": "skNqueOcv4kr"
      }
    },
    {
      "cell_type": "code",
      "source": [
        "missing_values_count = cleaned_hotel_df.isnull().sum()\n",
        "\n",
        "print(missing_values_count)"
      ],
      "metadata": {
        "colab": {
          "base_uri": "https://localhost:8080/"
        },
        "id": "NxocI_68o1l8",
        "outputId": "89d4f1f2-3887-4aa8-86e7-10acb65859e7"
      },
      "execution_count": 11,
      "outputs": [
        {
          "output_type": "stream",
          "name": "stdout",
          "text": [
            "address              0\n",
            "categories           0\n",
            "city                 0\n",
            "country              0\n",
            "latitude             0\n",
            "longitude            0\n",
            "name                 0\n",
            "postalCode           0\n",
            "province             0\n",
            "reviews.date         0\n",
            "reviews.dateAdded    0\n",
            "reviews.rating       0\n",
            "reviews.text         0\n",
            "reviews.title        0\n",
            "reviews.username     0\n",
            "dtype: int64\n"
          ]
        }
      ]
    },
    {
      "cell_type": "code",
      "source": [
        "len(cleaned_hotel_df)"
      ],
      "metadata": {
        "colab": {
          "base_uri": "https://localhost:8080/"
        },
        "id": "WLMoCrx5yhdZ",
        "outputId": "58cac570-91c6-4f4b-9200-29c90ebc0321"
      },
      "execution_count": 12,
      "outputs": [
        {
          "output_type": "execute_result",
          "data": {
            "text/plain": [
              "34016"
            ]
          },
          "metadata": {},
          "execution_count": 12
        }
      ]
    },
    {
      "cell_type": "markdown",
      "source": [
        "# **Define a function to detect the language of a given text string**"
      ],
      "metadata": {
        "id": "m_GrG9wXwGap"
      }
    },
    {
      "cell_type": "markdown",
      "source": [
        "Because we have other languages beside english , We Have to specify them and then remove them"
      ],
      "metadata": {
        "id": "H1YZfaK6wIW1"
      }
    },
    {
      "cell_type": "code",
      "source": [
        "def detect_language(text):\n",
        "    try:\n",
        "        lang = detect(text)\n",
        "    except:\n",
        "        lang = 'unknown'\n",
        "    return lang"
      ],
      "metadata": {
        "id": "KCoLs4SnzssX"
      },
      "execution_count": 13,
      "outputs": []
    },
    {
      "cell_type": "code",
      "source": [
        "cleaned_hotel_df['language'] = cleaned_hotel_df['reviews.text'].apply(detect_language)"
      ],
      "metadata": {
        "colab": {
          "base_uri": "https://localhost:8080/"
        },
        "id": "2jAM19bFySK7",
        "outputId": "e69b2d0c-332e-4591-d6b9-3ab97b13e8b0"
      },
      "execution_count": 14,
      "outputs": [
        {
          "output_type": "stream",
          "name": "stderr",
          "text": [
            "<ipython-input-14-4a4fe6544c87>:1: SettingWithCopyWarning: \n",
            "A value is trying to be set on a copy of a slice from a DataFrame.\n",
            "Try using .loc[row_indexer,col_indexer] = value instead\n",
            "\n",
            "See the caveats in the documentation: https://pandas.pydata.org/pandas-docs/stable/user_guide/indexing.html#returning-a-view-versus-a-copy\n",
            "  cleaned_hotel_df['language'] = cleaned_hotel_df['reviews.text'].apply(detect_language)\n"
          ]
        }
      ]
    },
    {
      "cell_type": "code",
      "source": [
        "cleaned_hotel_df.head()"
      ],
      "metadata": {
        "colab": {
          "base_uri": "https://localhost:8080/",
          "height": 531
        },
        "id": "W5YhS1SkzjrG",
        "outputId": "ac35c2f3-95e0-45c9-bc90-92161f6e487a"
      },
      "execution_count": 15,
      "outputs": [
        {
          "output_type": "execute_result",
          "data": {
            "text/plain": [
              "                  address categories      city country   latitude  longitude  \\\n",
              "0  Riviera San Nicol 11/a     Hotels  Mableton      US  45.421611  12.376187   \n",
              "1  Riviera San Nicol 11/a     Hotels  Mableton      US  45.421611  12.376187   \n",
              "2  Riviera San Nicol 11/a     Hotels  Mableton      US  45.421611  12.376187   \n",
              "3  Riviera San Nicol 11/a     Hotels  Mableton      US  45.421611  12.376187   \n",
              "4  Riviera San Nicol 11/a     Hotels  Mableton      US  45.421611  12.376187   \n",
              "\n",
              "                 name postalCode province          reviews.date  \\\n",
              "0  Hotel Russo Palace      30126       GA  2013-09-22T00:00:00Z   \n",
              "1  Hotel Russo Palace      30126       GA  2015-04-03T00:00:00Z   \n",
              "2  Hotel Russo Palace      30126       GA  2014-05-13T00:00:00Z   \n",
              "3  Hotel Russo Palace      30126       GA  2013-10-27T00:00:00Z   \n",
              "4  Hotel Russo Palace      30126       GA  2015-03-05T00:00:00Z   \n",
              "\n",
              "      reviews.dateAdded  reviews.rating  \\\n",
              "0  2016-10-24T00:00:25Z             4.0   \n",
              "1  2016-10-24T00:00:25Z             5.0   \n",
              "2  2016-10-24T00:00:25Z             5.0   \n",
              "3  2016-10-24T00:00:25Z             5.0   \n",
              "4  2016-10-24T00:00:25Z             5.0   \n",
              "\n",
              "                                        reviews.text  \\\n",
              "0  Pleasant 10 min walk along the sea front to th...   \n",
              "1  Really lovely hotel. Stayed on the very top fl...   \n",
              "2  Ett mycket bra hotell. Det som drog ner betyge...   \n",
              "3  We stayed here for four nights in October. The...   \n",
              "4  We stayed here for four nights in October. The...   \n",
              "\n",
              "                        reviews.title reviews.username language  \n",
              "0  Good location away from the crouds      Russ (kent)       en  \n",
              "1      Great hotel with Jacuzzi bath!       A Traveler       en  \n",
              "2                         Lugnt l��ge             Maud       sv  \n",
              "3          Good location on the Lido.            Julie       en  \n",
              "4              ������ ���������������         sungchul       en  "
            ],
            "text/html": [
              "\n",
              "  <div id=\"df-62605544-70fe-44a0-8c33-0f20d837ad52\">\n",
              "    <div class=\"colab-df-container\">\n",
              "      <div>\n",
              "<style scoped>\n",
              "    .dataframe tbody tr th:only-of-type {\n",
              "        vertical-align: middle;\n",
              "    }\n",
              "\n",
              "    .dataframe tbody tr th {\n",
              "        vertical-align: top;\n",
              "    }\n",
              "\n",
              "    .dataframe thead th {\n",
              "        text-align: right;\n",
              "    }\n",
              "</style>\n",
              "<table border=\"1\" class=\"dataframe\">\n",
              "  <thead>\n",
              "    <tr style=\"text-align: right;\">\n",
              "      <th></th>\n",
              "      <th>address</th>\n",
              "      <th>categories</th>\n",
              "      <th>city</th>\n",
              "      <th>country</th>\n",
              "      <th>latitude</th>\n",
              "      <th>longitude</th>\n",
              "      <th>name</th>\n",
              "      <th>postalCode</th>\n",
              "      <th>province</th>\n",
              "      <th>reviews.date</th>\n",
              "      <th>reviews.dateAdded</th>\n",
              "      <th>reviews.rating</th>\n",
              "      <th>reviews.text</th>\n",
              "      <th>reviews.title</th>\n",
              "      <th>reviews.username</th>\n",
              "      <th>language</th>\n",
              "    </tr>\n",
              "  </thead>\n",
              "  <tbody>\n",
              "    <tr>\n",
              "      <th>0</th>\n",
              "      <td>Riviera San Nicol 11/a</td>\n",
              "      <td>Hotels</td>\n",
              "      <td>Mableton</td>\n",
              "      <td>US</td>\n",
              "      <td>45.421611</td>\n",
              "      <td>12.376187</td>\n",
              "      <td>Hotel Russo Palace</td>\n",
              "      <td>30126</td>\n",
              "      <td>GA</td>\n",
              "      <td>2013-09-22T00:00:00Z</td>\n",
              "      <td>2016-10-24T00:00:25Z</td>\n",
              "      <td>4.0</td>\n",
              "      <td>Pleasant 10 min walk along the sea front to th...</td>\n",
              "      <td>Good location away from the crouds</td>\n",
              "      <td>Russ (kent)</td>\n",
              "      <td>en</td>\n",
              "    </tr>\n",
              "    <tr>\n",
              "      <th>1</th>\n",
              "      <td>Riviera San Nicol 11/a</td>\n",
              "      <td>Hotels</td>\n",
              "      <td>Mableton</td>\n",
              "      <td>US</td>\n",
              "      <td>45.421611</td>\n",
              "      <td>12.376187</td>\n",
              "      <td>Hotel Russo Palace</td>\n",
              "      <td>30126</td>\n",
              "      <td>GA</td>\n",
              "      <td>2015-04-03T00:00:00Z</td>\n",
              "      <td>2016-10-24T00:00:25Z</td>\n",
              "      <td>5.0</td>\n",
              "      <td>Really lovely hotel. Stayed on the very top fl...</td>\n",
              "      <td>Great hotel with Jacuzzi bath!</td>\n",
              "      <td>A Traveler</td>\n",
              "      <td>en</td>\n",
              "    </tr>\n",
              "    <tr>\n",
              "      <th>2</th>\n",
              "      <td>Riviera San Nicol 11/a</td>\n",
              "      <td>Hotels</td>\n",
              "      <td>Mableton</td>\n",
              "      <td>US</td>\n",
              "      <td>45.421611</td>\n",
              "      <td>12.376187</td>\n",
              "      <td>Hotel Russo Palace</td>\n",
              "      <td>30126</td>\n",
              "      <td>GA</td>\n",
              "      <td>2014-05-13T00:00:00Z</td>\n",
              "      <td>2016-10-24T00:00:25Z</td>\n",
              "      <td>5.0</td>\n",
              "      <td>Ett mycket bra hotell. Det som drog ner betyge...</td>\n",
              "      <td>Lugnt l��ge</td>\n",
              "      <td>Maud</td>\n",
              "      <td>sv</td>\n",
              "    </tr>\n",
              "    <tr>\n",
              "      <th>3</th>\n",
              "      <td>Riviera San Nicol 11/a</td>\n",
              "      <td>Hotels</td>\n",
              "      <td>Mableton</td>\n",
              "      <td>US</td>\n",
              "      <td>45.421611</td>\n",
              "      <td>12.376187</td>\n",
              "      <td>Hotel Russo Palace</td>\n",
              "      <td>30126</td>\n",
              "      <td>GA</td>\n",
              "      <td>2013-10-27T00:00:00Z</td>\n",
              "      <td>2016-10-24T00:00:25Z</td>\n",
              "      <td>5.0</td>\n",
              "      <td>We stayed here for four nights in October. The...</td>\n",
              "      <td>Good location on the Lido.</td>\n",
              "      <td>Julie</td>\n",
              "      <td>en</td>\n",
              "    </tr>\n",
              "    <tr>\n",
              "      <th>4</th>\n",
              "      <td>Riviera San Nicol 11/a</td>\n",
              "      <td>Hotels</td>\n",
              "      <td>Mableton</td>\n",
              "      <td>US</td>\n",
              "      <td>45.421611</td>\n",
              "      <td>12.376187</td>\n",
              "      <td>Hotel Russo Palace</td>\n",
              "      <td>30126</td>\n",
              "      <td>GA</td>\n",
              "      <td>2015-03-05T00:00:00Z</td>\n",
              "      <td>2016-10-24T00:00:25Z</td>\n",
              "      <td>5.0</td>\n",
              "      <td>We stayed here for four nights in October. The...</td>\n",
              "      <td>������ ���������������</td>\n",
              "      <td>sungchul</td>\n",
              "      <td>en</td>\n",
              "    </tr>\n",
              "  </tbody>\n",
              "</table>\n",
              "</div>\n",
              "      <button class=\"colab-df-convert\" onclick=\"convertToInteractive('df-62605544-70fe-44a0-8c33-0f20d837ad52')\"\n",
              "              title=\"Convert this dataframe to an interactive table.\"\n",
              "              style=\"display:none;\">\n",
              "        \n",
              "  <svg xmlns=\"http://www.w3.org/2000/svg\" height=\"24px\"viewBox=\"0 0 24 24\"\n",
              "       width=\"24px\">\n",
              "    <path d=\"M0 0h24v24H0V0z\" fill=\"none\"/>\n",
              "    <path d=\"M18.56 5.44l.94 2.06.94-2.06 2.06-.94-2.06-.94-.94-2.06-.94 2.06-2.06.94zm-11 1L8.5 8.5l.94-2.06 2.06-.94-2.06-.94L8.5 2.5l-.94 2.06-2.06.94zm10 10l.94 2.06.94-2.06 2.06-.94-2.06-.94-.94-2.06-.94 2.06-2.06.94z\"/><path d=\"M17.41 7.96l-1.37-1.37c-.4-.4-.92-.59-1.43-.59-.52 0-1.04.2-1.43.59L10.3 9.45l-7.72 7.72c-.78.78-.78 2.05 0 2.83L4 21.41c.39.39.9.59 1.41.59.51 0 1.02-.2 1.41-.59l7.78-7.78 2.81-2.81c.8-.78.8-2.07 0-2.86zM5.41 20L4 18.59l7.72-7.72 1.47 1.35L5.41 20z\"/>\n",
              "  </svg>\n",
              "      </button>\n",
              "      \n",
              "  <style>\n",
              "    .colab-df-container {\n",
              "      display:flex;\n",
              "      flex-wrap:wrap;\n",
              "      gap: 12px;\n",
              "    }\n",
              "\n",
              "    .colab-df-convert {\n",
              "      background-color: #E8F0FE;\n",
              "      border: none;\n",
              "      border-radius: 50%;\n",
              "      cursor: pointer;\n",
              "      display: none;\n",
              "      fill: #1967D2;\n",
              "      height: 32px;\n",
              "      padding: 0 0 0 0;\n",
              "      width: 32px;\n",
              "    }\n",
              "\n",
              "    .colab-df-convert:hover {\n",
              "      background-color: #E2EBFA;\n",
              "      box-shadow: 0px 1px 2px rgba(60, 64, 67, 0.3), 0px 1px 3px 1px rgba(60, 64, 67, 0.15);\n",
              "      fill: #174EA6;\n",
              "    }\n",
              "\n",
              "    [theme=dark] .colab-df-convert {\n",
              "      background-color: #3B4455;\n",
              "      fill: #D2E3FC;\n",
              "    }\n",
              "\n",
              "    [theme=dark] .colab-df-convert:hover {\n",
              "      background-color: #434B5C;\n",
              "      box-shadow: 0px 1px 3px 1px rgba(0, 0, 0, 0.15);\n",
              "      filter: drop-shadow(0px 1px 2px rgba(0, 0, 0, 0.3));\n",
              "      fill: #FFFFFF;\n",
              "    }\n",
              "  </style>\n",
              "\n",
              "      <script>\n",
              "        const buttonEl =\n",
              "          document.querySelector('#df-62605544-70fe-44a0-8c33-0f20d837ad52 button.colab-df-convert');\n",
              "        buttonEl.style.display =\n",
              "          google.colab.kernel.accessAllowed ? 'block' : 'none';\n",
              "\n",
              "        async function convertToInteractive(key) {\n",
              "          const element = document.querySelector('#df-62605544-70fe-44a0-8c33-0f20d837ad52');\n",
              "          const dataTable =\n",
              "            await google.colab.kernel.invokeFunction('convertToInteractive',\n",
              "                                                     [key], {});\n",
              "          if (!dataTable) return;\n",
              "\n",
              "          const docLinkHtml = 'Like what you see? Visit the ' +\n",
              "            '<a target=\"_blank\" href=https://colab.research.google.com/notebooks/data_table.ipynb>data table notebook</a>'\n",
              "            + ' to learn more about interactive tables.';\n",
              "          element.innerHTML = '';\n",
              "          dataTable['output_type'] = 'display_data';\n",
              "          await google.colab.output.renderOutput(dataTable, element);\n",
              "          const docLink = document.createElement('div');\n",
              "          docLink.innerHTML = docLinkHtml;\n",
              "          element.appendChild(docLink);\n",
              "        }\n",
              "      </script>\n",
              "    </div>\n",
              "  </div>\n",
              "  "
            ]
          },
          "metadata": {},
          "execution_count": 15
        }
      ]
    },
    {
      "cell_type": "code",
      "source": [
        "cleaned_hotel_df = cleaned_hotel_df[cleaned_hotel_df['language']=='en'].reset_index(drop=True)"
      ],
      "metadata": {
        "id": "KQ3QShyJzjEL"
      },
      "execution_count": 16,
      "outputs": []
    },
    {
      "cell_type": "markdown",
      "source": [
        "Removing the 'language' column since it's no longer needed"
      ],
      "metadata": {
        "id": "96iihBgxwiPW"
      }
    },
    {
      "cell_type": "code",
      "source": [
        "cleaned_hotel_df = cleaned_hotel_df.drop(columns=['language'])"
      ],
      "metadata": {
        "id": "VIXGK3rG4amn"
      },
      "execution_count": 17,
      "outputs": []
    },
    {
      "cell_type": "code",
      "source": [
        "len(cleaned_hotel_df)"
      ],
      "metadata": {
        "colab": {
          "base_uri": "https://localhost:8080/"
        },
        "id": "tORWLqgLyfge",
        "outputId": "a4dbff2f-9f35-499f-e459-e0a34c5607bf"
      },
      "execution_count": 18,
      "outputs": [
        {
          "output_type": "execute_result",
          "data": {
            "text/plain": [
              "32003"
            ]
          },
          "metadata": {},
          "execution_count": 18
        }
      ]
    },
    {
      "cell_type": "markdown",
      "source": [
        "Let's **save it as preprocessed data** , thus we don't need to doing all this again."
      ],
      "metadata": {
        "id": "vZiUFEMUwkiM"
      }
    },
    {
      "cell_type": "code",
      "source": [
        "cleaned_hotel_df.to_csv('/content/final_cleaned_hotel_dataset.csv', index=False)"
      ],
      "metadata": {
        "id": "J-i1i3bAo8kv"
      },
      "execution_count": 19,
      "outputs": []
    },
    {
      "cell_type": "markdown",
      "source": [
        "Doing Some Visual Stuff ..."
      ],
      "metadata": {
        "id": "Zt88-vlOw-_r"
      }
    },
    {
      "cell_type": "code",
      "source": [
        "%matplotlib inline"
      ],
      "metadata": {
        "id": "5xqTB3KVppML"
      },
      "execution_count": 20,
      "outputs": []
    },
    {
      "cell_type": "code",
      "source": [
        "fig , ax = plt.subplots()\n",
        "\n",
        "bar_data = cleaned_hotel_df[\"reviews.rating\"].value_counts()\n",
        "bar_x = bar_data.keys().tolist()\n",
        "bar_y = bar_data.tolist()\n",
        "\n",
        "ax.bar(bar_x,bar_y)\n",
        "ax.set_title(\"Reviews\")\n",
        "ax.set_xlabel(\"Rate\")\n",
        "ax.set_ylabel(\"Count\");"
      ],
      "metadata": {
        "colab": {
          "base_uri": "https://localhost:8080/",
          "height": 472
        },
        "id": "2kNr7-jYpS_k",
        "outputId": "7f88a7e8-f478-4d2a-b690-1be3b334a2ec"
      },
      "execution_count": 21,
      "outputs": [
        {
          "output_type": "display_data",
          "data": {
            "text/plain": [
              "<Figure size 640x480 with 1 Axes>"
            ],
            "image/png": "[encoded data removed]"
          },
          "metadata": {}
        }
      ]
    },
    {
      "cell_type": "code",
      "source": [
        "sns.displot(cleaned_hotel_df, x='reviews.rating', bins = 30, color = 'red',kde=True);"
      ],
      "metadata": {
        "colab": {
          "base_uri": "https://localhost:8080/",
          "height": 506
        },
        "id": "NHApheM0phGb",
        "outputId": "e5e24fb8-a307-4a22-a273-88fb198db9c7"
      },
      "execution_count": 22,
      "outputs": [
        {
          "output_type": "display_data",
          "data": {
            "text/plain": [
              "<Figure size 500x500 with 1 Axes>"
            ],
            "image/png": "[encoded data removed]"
          },
          "metadata": {}
        }
      ]
    },
    {
      "cell_type": "markdown",
      "source": [
        "Here I Will Create a new Column as a Category ."
      ],
      "metadata": {
        "id": "A3X3WnfzvmHP"
      }
    },
    {
      "cell_type": "markdown",
      "source": [
        "**Positive** And **Negative** .\n",
        "\n",
        "*   Positive : Thos One Which Their Rate is greater than 5.\n",
        "*   Negative : Thos One Which Their Rate is lower than 5.\n",
        "\n"
      ],
      "metadata": {
        "id": "QGwj3zkswAMf"
      }
    },
    {
      "cell_type": "code",
      "source": [
        "def categorize(rate):\n",
        "  return \"Pos\" if rate >= 5 else \"Neg\""
      ],
      "metadata": {
        "id": "1dZiqlr3wn4j"
      },
      "execution_count": 23,
      "outputs": []
    },
    {
      "cell_type": "code",
      "source": [
        "cleaned_hotel_df[\"Category\"] = cleaned_hotel_df[\"reviews.rating\"].apply(categorize)"
      ],
      "metadata": {
        "id": "xzwBRRpLwecl"
      },
      "execution_count": 24,
      "outputs": []
    },
    {
      "cell_type": "code",
      "source": [
        "cleaned_hotel_df.sample(5)"
      ],
      "metadata": {
        "colab": {
          "base_uri": "https://localhost:8080/",
          "height": 583
        },
        "id": "4dNwyw7ixLW9",
        "outputId": "a1df0795-25ed-497d-f69c-d78805520faf"
      },
      "execution_count": 25,
      "outputs": [
        {
          "output_type": "execute_result",
          "data": {
            "text/plain": [
              "                      address  \\\n",
              "29955         3080 E Colby St   \n",
              "7358         614 S W 11th Ave   \n",
              "1203   18980 Upper Belmont Pl   \n",
              "412               375 Main St   \n",
              "28717          2605 Weston Rd   \n",
              "\n",
              "                                              categories             city  \\\n",
              "29955                                             Hotels        Whitehall   \n",
              "7358   Corporate Lodging,Banquet Halls & Reception Fa...         Portland   \n",
              "1203   Conference & Convention Centers,Wholesale Copi...         Leesburg   \n",
              "412                                         Hotels,Hotel       Waterville   \n",
              "28717                                             Hotels  Fort Lauderdale   \n",
              "\n",
              "      country   latitude   longitude  \\\n",
              "29955      US  43.408970  -86.317420   \n",
              "7358       US  45.520850 -122.682800   \n",
              "1203       US  39.094056  -77.485577   \n",
              "412        US  44.570590  -69.640120   \n",
              "28717      US  26.085576  -80.372269   \n",
              "\n",
              "                                                   name postalCode  \\\n",
              "29955                           Americas Best Value Inn      49461   \n",
              "7358                                 The Governor Hotel      97205   \n",
              "1203                     The National Conference Center      20176   \n",
              "412            Best Western Plus Waterville Grand Hotel       4901   \n",
              "28717  Residence Inn By Marriott Fort Lauderdale Weston      33331   \n",
              "\n",
              "                province          reviews.date     reviews.dateAdded  \\\n",
              "29955                 MI  2015-08-29T00:00:00Z  2016-11-09T18:48:58Z   \n",
              "7358                  OR  2005-05-18T00:00:00Z  2016-11-14T16:19:44Z   \n",
              "1203                  VA  2014-08-10T00:00:00Z  2017-02-13T22:47:36Z   \n",
              "412                   ME  2016-01-08T00:00:00Z  2016-10-27T13:17:27Z   \n",
              "28717  Southwest Ranches  2016-06-10T00:00:00Z  2016-11-02T01:08:53Z   \n",
              "\n",
              "       reviews.rating                                       reviews.text  \\\n",
              "29955             2.0  Front staff was very nice. Hotel was dirty and...   \n",
              "7358              3.0  Having enjoyed the Governor in the past (very ...   \n",
              "1203              3.0  this place is creepy. weird tunnels and steril...   \n",
              "412               5.0                                        Great place   \n",
              "28717             4.0  Need to upgrade technology. Outlets by the bed...   \n",
              "\n",
              "                  reviews.title                reviews.username Category  \n",
              "29955     SPEND THE EXTRA MONEY                      A Traveler      Neg  \n",
              "7358         Overbooking fiasco                       moosenose      Neg  \n",
              "1203    not as bad as I thoight  Professor Twain ��������������      Neg  \n",
              "412    Great room - but . . . .                       Katherine      Pos  \n",
              "28717              Need upgrade                          Gloria      Neg  "
            ],
            "text/html": [
              "\n",
              "  <div id=\"df-5d631657-25eb-4057-9ea3-57858cbd4d0e\">\n",
              "    <div class=\"colab-df-container\">\n",
              "      <div>\n",
              "<style scoped>\n",
              "    .dataframe tbody tr th:only-of-type {\n",
              "        vertical-align: middle;\n",
              "    }\n",
              "\n",
              "    .dataframe tbody tr th {\n",
              "        vertical-align: top;\n",
              "    }\n",
              "\n",
              "    .dataframe thead th {\n",
              "        text-align: right;\n",
              "    }\n",
              "</style>\n",
              "<table border=\"1\" class=\"dataframe\">\n",
              "  <thead>\n",
              "    <tr style=\"text-align: right;\">\n",
              "      <th></th>\n",
              "      <th>address</th>\n",
              "      <th>categories</th>\n",
              "      <th>city</th>\n",
              "      <th>country</th>\n",
              "      <th>latitude</th>\n",
              "      <th>longitude</th>\n",
              "      <th>name</th>\n",
              "      <th>postalCode</th>\n",
              "      <th>province</th>\n",
              "      <th>reviews.date</th>\n",
              "      <th>reviews.dateAdded</th>\n",
              "      <th>reviews.rating</th>\n",
              "      <th>reviews.text</th>\n",
              "      <th>reviews.title</th>\n",
              "      <th>reviews.username</th>\n",
              "      <th>Category</th>\n",
              "    </tr>\n",
              "  </thead>\n",
              "  <tbody>\n",
              "    <tr>\n",
              "      <th>29955</th>\n",
              "      <td>3080 E Colby St</td>\n",
              "      <td>Hotels</td>\n",
              "      <td>Whitehall</td>\n",
              "      <td>US</td>\n",
              "      <td>43.408970</td>\n",
              "      <td>-86.317420</td>\n",
              "      <td>Americas Best Value Inn</td>\n",
              "      <td>49461</td>\n",
              "      <td>MI</td>\n",
              "      <td>2015-08-29T00:00:00Z</td>\n",
              "      <td>2016-11-09T18:48:58Z</td>\n",
              "      <td>2.0</td>\n",
              "      <td>Front staff was very nice. Hotel was dirty and...</td>\n",
              "      <td>SPEND THE EXTRA MONEY</td>\n",
              "      <td>A Traveler</td>\n",
              "      <td>Neg</td>\n",
              "    </tr>\n",
              "    <tr>\n",
              "      <th>7358</th>\n",
              "      <td>614 S W 11th Ave</td>\n",
              "      <td>Corporate Lodging,Banquet Halls &amp; Reception Fa...</td>\n",
              "      <td>Portland</td>\n",
              "      <td>US</td>\n",
              "      <td>45.520850</td>\n",
              "      <td>-122.682800</td>\n",
              "      <td>The Governor Hotel</td>\n",
              "      <td>97205</td>\n",
              "      <td>OR</td>\n",
              "      <td>2005-05-18T00:00:00Z</td>\n",
              "      <td>2016-11-14T16:19:44Z</td>\n",
              "      <td>3.0</td>\n",
              "      <td>Having enjoyed the Governor in the past (very ...</td>\n",
              "      <td>Overbooking fiasco</td>\n",
              "      <td>moosenose</td>\n",
              "      <td>Neg</td>\n",
              "    </tr>\n",
              "    <tr>\n",
              "      <th>1203</th>\n",
              "      <td>18980 Upper Belmont Pl</td>\n",
              "      <td>Conference &amp; Convention Centers,Wholesale Copi...</td>\n",
              "      <td>Leesburg</td>\n",
              "      <td>US</td>\n",
              "      <td>39.094056</td>\n",
              "      <td>-77.485577</td>\n",
              "      <td>The National Conference Center</td>\n",
              "      <td>20176</td>\n",
              "      <td>VA</td>\n",
              "      <td>2014-08-10T00:00:00Z</td>\n",
              "      <td>2017-02-13T22:47:36Z</td>\n",
              "      <td>3.0</td>\n",
              "      <td>this place is creepy. weird tunnels and steril...</td>\n",
              "      <td>not as bad as I thoight</td>\n",
              "      <td>Professor Twain ��������������</td>\n",
              "      <td>Neg</td>\n",
              "    </tr>\n",
              "    <tr>\n",
              "      <th>412</th>\n",
              "      <td>375 Main St</td>\n",
              "      <td>Hotels,Hotel</td>\n",
              "      <td>Waterville</td>\n",
              "      <td>US</td>\n",
              "      <td>44.570590</td>\n",
              "      <td>-69.640120</td>\n",
              "      <td>Best Western Plus Waterville Grand Hotel</td>\n",
              "      <td>4901</td>\n",
              "      <td>ME</td>\n",
              "      <td>2016-01-08T00:00:00Z</td>\n",
              "      <td>2016-10-27T13:17:27Z</td>\n",
              "      <td>5.0</td>\n",
              "      <td>Great place</td>\n",
              "      <td>Great room - but . . . .</td>\n",
              "      <td>Katherine</td>\n",
              "      <td>Pos</td>\n",
              "    </tr>\n",
              "    <tr>\n",
              "      <th>28717</th>\n",
              "      <td>2605 Weston Rd</td>\n",
              "      <td>Hotels</td>\n",
              "      <td>Fort Lauderdale</td>\n",
              "      <td>US</td>\n",
              "      <td>26.085576</td>\n",
              "      <td>-80.372269</td>\n",
              "      <td>Residence Inn By Marriott Fort Lauderdale Weston</td>\n",
              "      <td>33331</td>\n",
              "      <td>Southwest Ranches</td>\n",
              "      <td>2016-06-10T00:00:00Z</td>\n",
              "      <td>2016-11-02T01:08:53Z</td>\n",
              "      <td>4.0</td>\n",
              "      <td>Need to upgrade technology. Outlets by the bed...</td>\n",
              "      <td>Need upgrade</td>\n",
              "      <td>Gloria</td>\n",
              "      <td>Neg</td>\n",
              "    </tr>\n",
              "  </tbody>\n",
              "</table>\n",
              "</div>\n",
              "      <button class=\"colab-df-convert\" onclick=\"convertToInteractive('df-5d631657-25eb-4057-9ea3-57858cbd4d0e')\"\n",
              "              title=\"Convert this dataframe to an interactive table.\"\n",
              "              style=\"display:none;\">\n",
              "        \n",
              "  <svg xmlns=\"http://www.w3.org/2000/svg\" height=\"24px\"viewBox=\"0 0 24 24\"\n",
              "       width=\"24px\">\n",
              "    <path d=\"M0 0h24v24H0V0z\" fill=\"none\"/>\n",
              "    <path d=\"M18.56 5.44l.94 2.06.94-2.06 2.06-.94-2.06-.94-.94-2.06-.94 2.06-2.06.94zm-11 1L8.5 8.5l.94-2.06 2.06-.94-2.06-.94L8.5 2.5l-.94 2.06-2.06.94zm10 10l.94 2.06.94-2.06 2.06-.94-2.06-.94-.94-2.06-.94 2.06-2.06.94z\"/><path d=\"M17.41 7.96l-1.37-1.37c-.4-.4-.92-.59-1.43-.59-.52 0-1.04.2-1.43.59L10.3 9.45l-7.72 7.72c-.78.78-.78 2.05 0 2.83L4 21.41c.39.39.9.59 1.41.59.51 0 1.02-.2 1.41-.59l7.78-7.78 2.81-2.81c.8-.78.8-2.07 0-2.86zM5.41 20L4 18.59l7.72-7.72 1.47 1.35L5.41 20z\"/>\n",
              "  </svg>\n",
              "      </button>\n",
              "      \n",
              "  <style>\n",
              "    .colab-df-container {\n",
              "      display:flex;\n",
              "      flex-wrap:wrap;\n",
              "      gap: 12px;\n",
              "    }\n",
              "\n",
              "    .colab-df-convert {\n",
              "      background-color: #E8F0FE;\n",
              "      border: none;\n",
              "      border-radius: 50%;\n",
              "      cursor: pointer;\n",
              "      display: none;\n",
              "      fill: #1967D2;\n",
              "      height: 32px;\n",
              "      padding: 0 0 0 0;\n",
              "      width: 32px;\n",
              "    }\n",
              "\n",
              "    .colab-df-convert:hover {\n",
              "      background-color: #E2EBFA;\n",
              "      box-shadow: 0px 1px 2px rgba(60, 64, 67, 0.3), 0px 1px 3px 1px rgba(60, 64, 67, 0.15);\n",
              "      fill: #174EA6;\n",
              "    }\n",
              "\n",
              "    [theme=dark] .colab-df-convert {\n",
              "      background-color: #3B4455;\n",
              "      fill: #D2E3FC;\n",
              "    }\n",
              "\n",
              "    [theme=dark] .colab-df-convert:hover {\n",
              "      background-color: #434B5C;\n",
              "      box-shadow: 0px 1px 3px 1px rgba(0, 0, 0, 0.15);\n",
              "      filter: drop-shadow(0px 1px 2px rgba(0, 0, 0, 0.3));\n",
              "      fill: #FFFFFF;\n",
              "    }\n",
              "  </style>\n",
              "\n",
              "      <script>\n",
              "        const buttonEl =\n",
              "          document.querySelector('#df-5d631657-25eb-4057-9ea3-57858cbd4d0e button.colab-df-convert');\n",
              "        buttonEl.style.display =\n",
              "          google.colab.kernel.accessAllowed ? 'block' : 'none';\n",
              "\n",
              "        async function convertToInteractive(key) {\n",
              "          const element = document.querySelector('#df-5d631657-25eb-4057-9ea3-57858cbd4d0e');\n",
              "          const dataTable =\n",
              "            await google.colab.kernel.invokeFunction('convertToInteractive',\n",
              "                                                     [key], {});\n",
              "          if (!dataTable) return;\n",
              "\n",
              "          const docLinkHtml = 'Like what you see? Visit the ' +\n",
              "            '<a target=\"_blank\" href=https://colab.research.google.com/notebooks/data_table.ipynb>data table notebook</a>'\n",
              "            + ' to learn more about interactive tables.';\n",
              "          element.innerHTML = '';\n",
              "          dataTable['output_type'] = 'display_data';\n",
              "          await google.colab.output.renderOutput(dataTable, element);\n",
              "          const docLink = document.createElement('div');\n",
              "          docLink.innerHTML = docLinkHtml;\n",
              "          element.appendChild(docLink);\n",
              "        }\n",
              "      </script>\n",
              "    </div>\n",
              "  </div>\n",
              "  "
            ]
          },
          "metadata": {},
          "execution_count": 25
        }
      ]
    },
    {
      "cell_type": "code",
      "source": [
        "import nltk\n",
        "nltk.download('stopwords')"
      ],
      "metadata": {
        "colab": {
          "base_uri": "https://localhost:8080/"
        },
        "id": "_GSjsofjsLQm",
        "outputId": "b78ac0b1-ad20-42a4-a0e9-1120c7680d93"
      },
      "execution_count": 26,
      "outputs": [
        {
          "output_type": "stream",
          "name": "stderr",
          "text": [
            "[nltk_data] Downloading package stopwords to /root/nltk_data...\n",
            "[nltk_data]   Package stopwords is already up-to-date!\n"
          ]
        },
        {
          "output_type": "execute_result",
          "data": {
            "text/plain": [
              "True"
            ]
          },
          "metadata": {},
          "execution_count": 26
        }
      ]
    },
    {
      "cell_type": "markdown",
      "source": [
        "## Define a function to preprocess the reviews.text columns"
      ],
      "metadata": {
        "id": "4TCFj4-sxJVq"
      }
    },
    {
      "cell_type": "code",
      "source": [
        "def preprocess_text(text):\n",
        "    # Remove punctuations from the text\n",
        "    text = text.translate(str.maketrans('', '', string.punctuation))\n",
        "    \n",
        "    # Lowercase all text\n",
        "    text = text.lower()\n",
        "    \n",
        "    # Tokenize the text into words\n",
        "    words = text.split()\n",
        "    \n",
        "    # Remove stop words from the text using NLTK corpus\n",
        "    stop_words = set(stopwords.words('english'))\n",
        "    words = [word for word in words if word not in stop_words]\n",
        "    \n",
        "    # Apply stemming to the words using Porter stemmer\n",
        "    stemmer = PorterStemmer()\n",
        "    words = [stemmer.stem(word) for word in words]\n",
        "    \n",
        "    # Join the preprocessed words back into text and return it\n",
        "    return ' '.join(words)"
      ],
      "metadata": {
        "id": "4S_o_VOl7lU1"
      },
      "execution_count": 27,
      "outputs": []
    },
    {
      "cell_type": "markdown",
      "source": [
        "## Define a function to Map Pos & Neg Categories To Binaries"
      ],
      "metadata": {
        "id": "2BvSLnYXxTU9"
      }
    },
    {
      "cell_type": "code",
      "source": [
        "def map_label_to_binary(label):\n",
        "   return 0 if label == 'Neg' else 1"
      ],
      "metadata": {
        "id": "o6YEFZQhr9E3"
      },
      "execution_count": 28,
      "outputs": []
    },
    {
      "cell_type": "markdown",
      "source": [
        "**Let's make it easier**\n",
        "\n",
        "*   We Only Need Reviews Text as X and Category as y\n"
      ],
      "metadata": {
        "id": "OJXPd3ifxfx2"
      }
    },
    {
      "cell_type": "code",
      "source": [
        "X = cleaned_hotel_df['reviews.text']\n",
        "y = cleaned_hotel_df['Category']"
      ],
      "metadata": {
        "id": "EFz5TX2ua0vL"
      },
      "execution_count": 29,
      "outputs": []
    },
    {
      "cell_type": "code",
      "source": [
        "X = X.apply(preprocess_text)"
      ],
      "metadata": {
        "id": "pueDVxYhr1_t"
      },
      "execution_count": 30,
      "outputs": []
    },
    {
      "cell_type": "code",
      "source": [
        "vectorizer = TfidfVectorizer(min_df=7, max_df=0.8, stop_words=stopwords.words('english'))\n",
        "X = vectorizer.fit_transform(X).toarray()"
      ],
      "metadata": {
        "id": "i56_U41bsdor"
      },
      "execution_count": 31,
      "outputs": []
    },
    {
      "cell_type": "code",
      "source": [
        "y = y.apply(map_label_to_binary)"
      ],
      "metadata": {
        "id": "Q2MR9AHzsPZc"
      },
      "execution_count": 32,
      "outputs": []
    },
    {
      "cell_type": "code",
      "source": [
        "len(X)"
      ],
      "metadata": {
        "colab": {
          "base_uri": "https://localhost:8080/"
        },
        "id": "B1luwsvidq8r",
        "outputId": "cf8dd087-e96b-4923-ed70-022e63d311c7"
      },
      "execution_count": 33,
      "outputs": [
        {
          "output_type": "execute_result",
          "data": {
            "text/plain": [
              "32003"
            ]
          },
          "metadata": {},
          "execution_count": 33
        }
      ]
    },
    {
      "cell_type": "code",
      "source": [
        "len(y)"
      ],
      "metadata": {
        "colab": {
          "base_uri": "https://localhost:8080/"
        },
        "id": "ntpCoh3EsT64",
        "outputId": "ae70ef58-b8c9-4bed-bc26-8e13c32556c9"
      },
      "execution_count": 34,
      "outputs": [
        {
          "output_type": "execute_result",
          "data": {
            "text/plain": [
              "32003"
            ]
          },
          "metadata": {},
          "execution_count": 34
        }
      ]
    },
    {
      "cell_type": "markdown",
      "source": [
        "## Split our data to Train & Test"
      ],
      "metadata": {
        "id": "wN7RQPYyyDgD"
      }
    },
    {
      "cell_type": "code",
      "source": [
        "train_data = X[:20000]\n",
        "train_labels = y[:20000]\n",
        "test_data = X[20000:]\n",
        "test_labels = y[20000:]"
      ],
      "metadata": {
        "id": "uOFdHhcaq6bM"
      },
      "execution_count": 35,
      "outputs": []
    },
    {
      "cell_type": "code",
      "source": [
        "train_data[0]"
      ],
      "metadata": {
        "colab": {
          "base_uri": "https://localhost:8080/"
        },
        "id": "o0KPxnycrXfW",
        "outputId": "e1d987ed-ae6c-4ba1-dbd2-25f79e47ba46"
      },
      "execution_count": 36,
      "outputs": [
        {
          "output_type": "execute_result",
          "data": {
            "text/plain": [
              "array([0.2136701, 0.       , 0.       , ..., 0.       , 0.       ,\n",
              "       0.       ])"
            ]
          },
          "metadata": {},
          "execution_count": 36
        }
      ]
    },
    {
      "cell_type": "code",
      "source": [
        "train_labels[0]"
      ],
      "metadata": {
        "colab": {
          "base_uri": "https://localhost:8080/"
        },
        "id": "m07xFF8-rbSI",
        "outputId": "73a78b47-b100-4cb9-a3ea-2020968f300c"
      },
      "execution_count": 37,
      "outputs": [
        {
          "output_type": "execute_result",
          "data": {
            "text/plain": [
              "0"
            ]
          },
          "metadata": {},
          "execution_count": 37
        }
      ]
    },
    {
      "cell_type": "code",
      "source": [
        "y_train = np.asarray(train_labels).astype(\"float32\")\n",
        "y_test = np.asarray(test_labels).astype(\"float32\")"
      ],
      "metadata": {
        "id": "Xk3ZUnf6tXlN"
      },
      "execution_count": 38,
      "outputs": []
    },
    {
      "cell_type": "markdown",
      "source": [
        "# Building The Model"
      ],
      "metadata": {
        "id": "eXuE2mldyNpv"
      }
    },
    {
      "cell_type": "markdown",
      "source": [
        "Model definition"
      ],
      "metadata": {
        "id": "-xsmhatTyR3C"
      }
    },
    {
      "cell_type": "code",
      "source": [
        "model = keras.Sequential([\n",
        "    keras.layers.Dense(16, activation=\"relu\"),\n",
        "    keras.layers.Dense(16, activation=\"relu\"),\n",
        "    keras.layers.Dense(1, activation=\"sigmoid\")\n",
        "])"
      ],
      "metadata": {
        "id": "XoLzIi4abJUv"
      },
      "execution_count": 39,
      "outputs": []
    },
    {
      "cell_type": "markdown",
      "source": [
        "**Compiling the model**"
      ],
      "metadata": {
        "id": "NVfllIAlyVnH"
      }
    },
    {
      "cell_type": "code",
      "source": [
        "model.compile(optimizer=\"rmsprop\",\n",
        "              loss=\"binary_crossentropy\",\n",
        "              metrics=[\"accuracy\"])"
      ],
      "metadata": {
        "id": "aLEKWWROemhe"
      },
      "execution_count": 40,
      "outputs": []
    },
    {
      "cell_type": "markdown",
      "source": [
        "### Validating your approach"
      ],
      "metadata": {
        "id": "mrBDRdxlyaY2"
      }
    },
    {
      "cell_type": "markdown",
      "source": [
        "**Setting aside a validation set**"
      ],
      "metadata": {
        "id": "1Ad0Pbkdycxt"
      }
    },
    {
      "cell_type": "code",
      "source": [
        "x_val = train_data[:10000]\n",
        "partial_x_train = train_data[10000:]\n",
        "y_val = y_train[:10000]\n",
        "partial_y_train = y_train[10000:]"
      ],
      "metadata": {
        "id": "mUILeEgQeOdy"
      },
      "execution_count": 41,
      "outputs": []
    },
    {
      "cell_type": "code",
      "source": [
        "len(partial_x_train)"
      ],
      "metadata": {
        "colab": {
          "base_uri": "https://localhost:8080/"
        },
        "id": "pZgCbvqntthS",
        "outputId": "e5e36cb2-9031-4543-8b24-df8e2adc1710"
      },
      "execution_count": 42,
      "outputs": [
        {
          "output_type": "execute_result",
          "data": {
            "text/plain": [
              "10000"
            ]
          },
          "metadata": {},
          "execution_count": 42
        }
      ]
    },
    {
      "cell_type": "code",
      "source": [
        "len(partial_y_train)"
      ],
      "metadata": {
        "colab": {
          "base_uri": "https://localhost:8080/"
        },
        "id": "R9ThH2tatvRv",
        "outputId": "8d6261cf-0b0a-44b2-a7e3-ccb73d3228cb"
      },
      "execution_count": 43,
      "outputs": [
        {
          "output_type": "execute_result",
          "data": {
            "text/plain": [
              "10000"
            ]
          },
          "metadata": {},
          "execution_count": 43
        }
      ]
    },
    {
      "cell_type": "markdown",
      "source": [
        "**Training your model**"
      ],
      "metadata": {
        "id": "vWVubn5ayfYp"
      }
    },
    {
      "cell_type": "code",
      "source": [
        "history = model.fit(partial_x_train,\n",
        "                    partial_y_train,\n",
        "                    epochs=20,\n",
        "                    batch_size=512,\n",
        "                    validation_data=(x_val, y_val))"
      ],
      "metadata": {
        "colab": {
          "base_uri": "https://localhost:8080/"
        },
        "id": "JK1BGHm-eP-K",
        "outputId": "e7930eac-7a84-46ed-89a6-49f36303c89e"
      },
      "execution_count": 44,
      "outputs": [
        {
          "output_type": "stream",
          "name": "stdout",
          "text": [
            "Epoch 1/20\n",
            "20/20 [==============================] - 3s 111ms/step - loss: 0.6710 - accuracy: 0.6526 - val_loss: 0.6672 - val_accuracy: 0.5987\n",
            "Epoch 2/20\n",
            "20/20 [==============================] - 1s 35ms/step - loss: 0.6330 - accuracy: 0.6639 - val_loss: 0.6457 - val_accuracy: 0.5987\n",
            "Epoch 3/20\n",
            "20/20 [==============================] - 1s 35ms/step - loss: 0.5964 - accuracy: 0.6713 - val_loss: 0.6196 - val_accuracy: 0.6132\n",
            "Epoch 4/20\n",
            "20/20 [==============================] - 1s 26ms/step - loss: 0.5582 - accuracy: 0.7004 - val_loss: 0.5891 - val_accuracy: 0.6587\n",
            "Epoch 5/20\n",
            "20/20 [==============================] - 1s 36ms/step - loss: 0.5233 - accuracy: 0.7390 - val_loss: 0.5685 - val_accuracy: 0.6747\n",
            "Epoch 6/20\n",
            "20/20 [==============================] - 1s 26ms/step - loss: 0.4926 - accuracy: 0.7615 - val_loss: 0.5479 - val_accuracy: 0.7028\n",
            "Epoch 7/20\n",
            "20/20 [==============================] - 1s 27ms/step - loss: 0.4664 - accuracy: 0.7802 - val_loss: 0.5305 - val_accuracy: 0.7289\n",
            "Epoch 8/20\n",
            "20/20 [==============================] - 1s 34ms/step - loss: 0.4445 - accuracy: 0.7958 - val_loss: 0.5189 - val_accuracy: 0.7388\n",
            "Epoch 9/20\n",
            "20/20 [==============================] - 1s 35ms/step - loss: 0.4269 - accuracy: 0.8070 - val_loss: 0.5151 - val_accuracy: 0.7407\n",
            "Epoch 10/20\n",
            "20/20 [==============================] - 1s 35ms/step - loss: 0.4121 - accuracy: 0.8143 - val_loss: 0.5166 - val_accuracy: 0.7403\n",
            "Epoch 11/20\n",
            "20/20 [==============================] - 1s 26ms/step - loss: 0.3999 - accuracy: 0.8214 - val_loss: 0.5144 - val_accuracy: 0.7426\n",
            "Epoch 12/20\n",
            "20/20 [==============================] - 1s 27ms/step - loss: 0.3889 - accuracy: 0.8273 - val_loss: 0.5140 - val_accuracy: 0.7443\n",
            "Epoch 13/20\n",
            "20/20 [==============================] - 1s 26ms/step - loss: 0.3792 - accuracy: 0.8330 - val_loss: 0.5135 - val_accuracy: 0.7463\n",
            "Epoch 14/20\n",
            "20/20 [==============================] - 1s 25ms/step - loss: 0.3704 - accuracy: 0.8370 - val_loss: 0.5172 - val_accuracy: 0.7439\n",
            "Epoch 15/20\n",
            "20/20 [==============================] - 1s 35ms/step - loss: 0.3625 - accuracy: 0.8425 - val_loss: 0.5217 - val_accuracy: 0.7426\n",
            "Epoch 16/20\n",
            "20/20 [==============================] - 1s 34ms/step - loss: 0.3546 - accuracy: 0.8449 - val_loss: 0.5227 - val_accuracy: 0.7415\n",
            "Epoch 17/20\n",
            "20/20 [==============================] - 1s 30ms/step - loss: 0.3478 - accuracy: 0.8506 - val_loss: 0.5316 - val_accuracy: 0.7387\n",
            "Epoch 18/20\n",
            "20/20 [==============================] - 1s 46ms/step - loss: 0.3411 - accuracy: 0.8544 - val_loss: 0.5372 - val_accuracy: 0.7372\n",
            "Epoch 19/20\n",
            "20/20 [==============================] - 1s 46ms/step - loss: 0.3351 - accuracy: 0.8569 - val_loss: 0.5454 - val_accuracy: 0.7347\n",
            "Epoch 20/20\n",
            "20/20 [==============================] - 1s 41ms/step - loss: 0.3292 - accuracy: 0.8616 - val_loss: 0.5505 - val_accuracy: 0.7351\n"
          ]
        }
      ]
    },
    {
      "cell_type": "code",
      "source": [
        "history_dict = history.history\n",
        "history_dict.keys()"
      ],
      "metadata": {
        "colab": {
          "base_uri": "https://localhost:8080/"
        },
        "id": "SdEB-mGkaIcJ",
        "outputId": "757c9832-2754-471d-a63d-8733ee2d0513"
      },
      "execution_count": 45,
      "outputs": [
        {
          "output_type": "execute_result",
          "data": {
            "text/plain": [
              "dict_keys(['loss', 'accuracy', 'val_loss', 'val_accuracy'])"
            ]
          },
          "metadata": {},
          "execution_count": 45
        }
      ]
    },
    {
      "cell_type": "markdown",
      "source": [
        "**Plotting the training and validation loss**"
      ],
      "metadata": {
        "id": "bARWsRkZyjJR"
      }
    },
    {
      "cell_type": "code",
      "source": [
        "import matplotlib.pyplot as plt\n",
        "history_dict = history.history\n",
        "loss_values = history_dict[\"loss\"]\n",
        "val_loss_values = history_dict[\"val_loss\"]\n",
        "epochs = range(1, len(loss_values) + 1)\n",
        "plt.plot(epochs, loss_values, \"bo\", label=\"Training loss\")\n",
        "plt.plot(epochs, val_loss_values, \"b\", label=\"Validation loss\")\n",
        "plt.title(\"Training and validation loss\")\n",
        "plt.xlabel(\"Epochs\")\n",
        "plt.ylabel(\"Loss\")\n",
        "plt.legend()\n",
        "plt.show()"
      ],
      "metadata": {
        "colab": {
          "base_uri": "https://localhost:8080/",
          "height": 472
        },
        "id": "DvBJH9L6Yksu",
        "outputId": "a3b3a2b4-e1df-4b52-8e8c-0f8b859a8646"
      },
      "execution_count": 46,
      "outputs": [
        {
          "output_type": "display_data",
          "data": {
            "text/plain": [
              "<Figure size 640x480 with 1 Axes>"
            ],
            "image/png": "[encoded data removed]"
          },
          "metadata": {}
        }
      ]
    },
    {
      "cell_type": "markdown",
      "source": [
        "**Plotting the training and validation accuracy**"
      ],
      "metadata": {
        "id": "DGDoBXQ4ylSx"
      }
    },
    {
      "cell_type": "code",
      "source": [
        "plt.clf()\n",
        "acc = history_dict[\"accuracy\"]\n",
        "val_acc = history_dict[\"val_accuracy\"]\n",
        "plt.plot(epochs, acc, \"bo\", label=\"Training acc\")\n",
        "plt.plot(epochs, val_acc, \"b\", label=\"Validation acc\")\n",
        "plt.title(\"Training and validation accuracy\")\n",
        "plt.xlabel(\"Epochs\")\n",
        "plt.ylabel(\"Accuracy\")\n",
        "plt.legend()\n",
        "plt.show()"
      ],
      "metadata": {
        "colab": {
          "base_uri": "https://localhost:8080/",
          "height": 472
        },
        "id": "N7u-U1WKdK8x",
        "outputId": "dba10dde-907a-4fc2-bae5-71b1a70196b4"
      },
      "execution_count": 47,
      "outputs": [
        {
          "output_type": "display_data",
          "data": {
            "text/plain": [
              "<Figure size 640x480 with 1 Axes>"
            ],
            "image/png": "[encoded data removed]"
          },
          "metadata": {}
        }
      ]
    },
    {
      "cell_type": "markdown",
      "source": [
        "**Retraining a model from scratch**"
      ],
      "metadata": {
        "id": "X375PoPDyn59"
      }
    },
    {
      "cell_type": "code",
      "source": [
        "model = keras.Sequential([\n",
        "    keras.layers.Dense(16, activation=\"relu\"),\n",
        "    keras.layers.Dense(16, activation=\"relu\"),\n",
        "    keras.layers.Dense(1, activation=\"sigmoid\")\n",
        "])\n",
        "model.compile(optimizer=\"rmsprop\",\n",
        "              loss=\"binary_crossentropy\",\n",
        "              metrics=[\"accuracy\"])\n",
        "model.fit(train_data, y_train, epochs=4, batch_size=512)\n",
        "results = model.evaluate(test_data, y_test)"
      ],
      "metadata": {
        "colab": {
          "base_uri": "https://localhost:8080/"
        },
        "id": "DqvL24WDdbrB",
        "outputId": "ad27e1df-707a-4359-e25b-ee99c3f9c19c"
      },
      "execution_count": 49,
      "outputs": [
        {
          "output_type": "stream",
          "name": "stdout",
          "text": [
            "Epoch 1/4\n",
            "40/40 [==============================] - 3s 49ms/step - loss: 0.6718 - accuracy: 0.6237\n",
            "Epoch 2/4\n",
            "40/40 [==============================] - 2s 39ms/step - loss: 0.6164 - accuracy: 0.6572\n",
            "Epoch 3/4\n",
            "40/40 [==============================] - 1s 34ms/step - loss: 0.5549 - accuracy: 0.7273\n",
            "Epoch 4/4\n",
            "40/40 [==============================] - 1s 28ms/step - loss: 0.5036 - accuracy: 0.7685\n",
            "376/376 [==============================] - 2s 4ms/step - loss: 0.5140 - accuracy: 0.7430\n"
          ]
        }
      ]
    },
    {
      "cell_type": "code",
      "source": [
        "results"
      ],
      "metadata": {
        "colab": {
          "base_uri": "https://localhost:8080/"
        },
        "id": "YUOJfUpRbpyJ",
        "outputId": "b6a7fd6b-60ae-4b94-bcf7-1731fc3d7e3f"
      },
      "execution_count": 50,
      "outputs": [
        {
          "output_type": "execute_result",
          "data": {
            "text/plain": [
              "[0.5139663815498352, 0.7429808974266052]"
            ]
          },
          "metadata": {},
          "execution_count": 50
        }
      ]
    },
    {
      "cell_type": "markdown",
      "source": [
        "### Using a trained model to generate predictions on new data"
      ],
      "metadata": {
        "id": "kbQaB9dbytUB"
      }
    },
    {
      "cell_type": "code",
      "source": [
        "model.predict(test_data)"
      ],
      "metadata": {
        "colab": {
          "base_uri": "https://localhost:8080/"
        },
        "id": "vMcqoGwiW287",
        "outputId": "6923c19d-d91e-4d86-dfa8-9ec259598d8f"
      },
      "execution_count": 51,
      "outputs": [
        {
          "output_type": "stream",
          "name": "stdout",
          "text": [
            "376/376 [==============================] - 1s 3ms/step\n"
          ]
        },
        {
          "output_type": "execute_result",
          "data": {
            "text/plain": [
              "array([[0.08581091],\n",
              "       [0.52415615],\n",
              "       [0.54093575],\n",
              "       ...,\n",
              "       [0.7394362 ],\n",
              "       [0.7409046 ],\n",
              "       [0.45834067]], dtype=float32)"
            ]
          },
          "metadata": {},
          "execution_count": 51
        }
      ]
    },
    {
      "cell_type": "code",
      "source": [],
      "metadata": {
        "id": "oPPipFGhA0vB"
      },
      "execution_count": null,
      "outputs": []
    }
  ]
}